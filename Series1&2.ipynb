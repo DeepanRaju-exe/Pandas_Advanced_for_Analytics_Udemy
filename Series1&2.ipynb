{
 "cells": [
  {
   "cell_type": "code",
   "execution_count": 1,
   "id": "e0378a61",
   "metadata": {},
   "outputs": [],
   "source": [
    "import pandas as pd"
   ]
  },
  {
   "cell_type": "code",
   "execution_count": 8,
   "id": "d4df74ba",
   "metadata": {},
   "outputs": [],
   "source": [
    "Squares=pd.Series([i*i for i in range(100)])"
   ]
  },
  {
   "cell_type": "code",
   "execution_count": 9,
   "id": "dfa096d9",
   "metadata": {},
   "outputs": [
    {
     "data": {
      "text/plain": [
       "0     0\n",
       "1     1\n",
       "2     4\n",
       "3     9\n",
       "4    16\n",
       "dtype: int64"
      ]
     },
     "execution_count": 9,
     "metadata": {},
     "output_type": "execute_result"
    }
   ],
   "source": [
    "Squares.head()"
   ]
  },
  {
   "cell_type": "code",
   "execution_count": 10,
   "id": "9e73440d",
   "metadata": {},
   "outputs": [
    {
     "data": {
      "text/plain": [
       "97    9409\n",
       "98    9604\n",
       "99    9801\n",
       "dtype: int64"
      ]
     },
     "execution_count": 10,
     "metadata": {},
     "output_type": "execute_result"
    }
   ],
   "source": [
    "Squares[97:100]"
   ]
  },
  {
   "cell_type": "code",
   "execution_count": 11,
   "id": "55b4d269",
   "metadata": {},
   "outputs": [
    {
     "data": {
      "text/plain": [
       "97    9409\n",
       "98    9604\n",
       "99    9801\n",
       "dtype: int64"
      ]
     },
     "execution_count": 11,
     "metadata": {},
     "output_type": "execute_result"
    }
   ],
   "source": [
    "Squares.tail(3)"
   ]
  },
  {
   "cell_type": "code",
   "execution_count": 12,
   "id": "7ea36841",
   "metadata": {},
   "outputs": [
    {
     "data": {
      "text/plain": [
       "True"
      ]
     },
     "execution_count": 12,
     "metadata": {},
     "output_type": "execute_result"
    }
   ],
   "source": [
    "Squares[97:100].equals(Squares.tail(3))"
   ]
  },
  {
   "cell_type": "markdown",
   "id": "10707464",
   "metadata": {},
   "source": [
    "### Now we are going to see much needed function read_csv() and its parameters\n",
    "Link to doc: https://pandas.pydata.org/pandas-docs/stable/reference/api/pandas.read_csv.html"
   ]
  },
  {
   "cell_type": "markdown",
   "id": "e60fda46",
   "metadata": {},
   "source": [
    "By Default read_csv() always returns DataFrame but if there is only 1 column is returned then u have a parameter squeeze to be changed to True to get as series, By default it sets to false"
   ]
  },
  {
   "cell_type": "code",
   "execution_count": 4,
   "id": "2ff255b4",
   "metadata": {},
   "outputs": [
    {
     "name": "stderr",
     "output_type": "stream",
     "text": [
      "C:\\Users\\sgdee\\AppData\\Local\\Temp\\ipykernel_26948\\555731800.py:2: FutureWarning: The squeeze argument has been deprecated and will be removed in a future version. Append .squeeze(\"columns\") to the call to squeeze.\n",
      "\n",
      "\n",
      "  alcohol = pd.read_csv('https://gist.githubusercontent.com/sh7ata/e075ff35b51ebb0d2d577fbe1d19ebc9/raw/b966d02c7c26bcca60703acb1390e938a65a35cb/drinks.csv'\n"
     ]
    },
    {
     "data": {
      "text/plain": [
       "'Squeeze parameter going to be removed instead we need to use .squeeze (https://pandas.pydata.org/pandas-docs/stable/reference/api/pandas.DataFrame.squeeze.html)'"
      ]
     },
     "execution_count": 4,
     "metadata": {},
     "output_type": "execute_result"
    }
   ],
   "source": [
    "import pandas as pd\n",
    "alcohol = pd.read_csv('https://gist.githubusercontent.com/sh7ata/e075ff35b51ebb0d2d577fbe1d19ebc9/raw/b966d02c7c26bcca60703acb1390e938a65a35cb/drinks.csv'\n",
    "            ,usecols=['country','wine_servings'],index_col='country',squeeze =True)\n",
    "\n",
    "\n",
    "'''Squeeze parameter going to be removed instead we need to use .squeeze (https://pandas.pydata.org/pandas-docs/stable/reference/api/pandas.DataFrame.squeeze.html)'''"
   ]
  },
  {
   "cell_type": "code",
   "execution_count": 18,
   "id": "3c61aa80",
   "metadata": {},
   "outputs": [
    {
     "data": {
      "text/plain": [
       "pandas.core.series.Series"
      ]
     },
     "execution_count": 18,
     "metadata": {},
     "output_type": "execute_result"
    }
   ],
   "source": [
    "type(alcohol)"
   ]
  },
  {
   "cell_type": "code",
   "execution_count": 21,
   "id": "36371e81",
   "metadata": {},
   "outputs": [],
   "source": [
    "alcohol=pd.Series(alcohol,name='alcohol')"
   ]
  },
  {
   "cell_type": "code",
   "execution_count": 24,
   "id": "f76884b0",
   "metadata": {},
   "outputs": [
    {
     "data": {
      "text/plain": [
       "country\n",
       "Afghanistan      NaN\n",
       "Albania         54.0\n",
       "Algeria         14.0\n",
       "Andorra        312.0\n",
       "Angola          45.0\n",
       "Name: alcohol, dtype: float64"
      ]
     },
     "execution_count": 24,
     "metadata": {},
     "output_type": "execute_result"
    }
   ],
   "source": [
    "alcohol.head()"
   ]
  },
  {
   "cell_type": "code",
   "execution_count": 23,
   "id": "02847be0",
   "metadata": {},
   "outputs": [
    {
     "data": {
      "text/plain": [
       "False"
      ]
     },
     "execution_count": 23,
     "metadata": {},
     "output_type": "execute_result"
    }
   ],
   "source": [
    "alcohol.is_unique"
   ]
  },
  {
   "cell_type": "code",
   "execution_count": 25,
   "id": "ab64efbc",
   "metadata": {},
   "outputs": [
    {
     "data": {
      "text/plain": [
       "True"
      ]
     },
     "execution_count": 25,
     "metadata": {},
     "output_type": "execute_result"
    }
   ],
   "source": [
    "#checking top 5 is unique or not\n",
    "alcohol.head().is_unique"
   ]
  },
  {
   "cell_type": "code",
   "execution_count": 29,
   "id": "3d084d4a",
   "metadata": {},
   "outputs": [
    {
     "data": {
      "text/plain": [
       "71"
      ]
     },
     "execution_count": 29,
     "metadata": {},
     "output_type": "execute_result"
    }
   ],
   "source": [
    "#n unique gives exact count of how many unique values in that series which by default excludes \"NA\" na is like missing values/ no particular value assigned\n",
    "\n",
    "#we can check with NA count as well by changing parameter dropna=False\n",
    "alcohol.nunique()"
   ]
  },
  {
   "cell_type": "code",
   "execution_count": 30,
   "id": "98559313",
   "metadata": {},
   "outputs": [
    {
     "data": {
      "text/plain": [
       "72"
      ]
     },
     "execution_count": 30,
     "metadata": {},
     "output_type": "execute_result"
    }
   ],
   "source": [
    "alcohol.nunique(dropna=False)"
   ]
  },
  {
   "cell_type": "markdown",
   "id": "7ec9bef9",
   "metadata": {},
   "source": [
    "Monotonicity like the given values is always increasing/decreasing it comes from Math concept - order of functions"
   ]
  },
  {
   "cell_type": "code",
   "execution_count": 39,
   "id": "86e6ffee",
   "metadata": {},
   "outputs": [
    {
     "data": {
      "text/plain": [
       "True"
      ]
     },
     "execution_count": 39,
     "metadata": {},
     "output_type": "execute_result"
    }
   ],
   "source": [
    "##Monotonicity\n",
    "pd.Series([1,2,3,5]).is_monotonic"
   ]
  },
  {
   "cell_type": "code",
   "execution_count": 34,
   "id": "75bda092",
   "metadata": {},
   "outputs": [
    {
     "data": {
      "text/plain": [
       "True"
      ]
     },
     "execution_count": 34,
     "metadata": {},
     "output_type": "execute_result"
    }
   ],
   "source": [
    "#even multiple same values also holds the concept of order so it will return true\n",
    "pd.Series([1,2,3,5,55,55,55,55]).is_monotonic"
   ]
  },
  {
   "cell_type": "code",
   "execution_count": 48,
   "id": "acf7d4ad",
   "metadata": {},
   "outputs": [],
   "source": [
    "a=pd.Series([6,5,2])"
   ]
  },
  {
   "cell_type": "code",
   "execution_count": 49,
   "id": "f2a1baeb",
   "metadata": {},
   "outputs": [
    {
     "data": {
      "text/plain": [
       "False"
      ]
     },
     "execution_count": 49,
     "metadata": {},
     "output_type": "execute_result"
    }
   ],
   "source": [
    "a.is_monotonic"
   ]
  },
  {
   "cell_type": "markdown",
   "id": "309cd8d4",
   "metadata": {},
   "source": [
    "#### is_monotonic is an alias for is_monotonic_decreasing and even u give decreasing list it will return FALSE becoz its an alias for monotonic increase, so we need to use series.is_monotonic_decrease"
   ]
  },
  {
   "cell_type": "code",
   "execution_count": 50,
   "id": "f2f6ee38",
   "metadata": {},
   "outputs": [
    {
     "data": {
      "text/plain": [
       "True"
      ]
     },
     "execution_count": 50,
     "metadata": {},
     "output_type": "execute_result"
    }
   ],
   "source": [
    "a.is_monotonic_decreasing"
   ]
  },
  {
   "cell_type": "markdown",
   "id": "562982d0",
   "metadata": {},
   "source": [
    "### Count gives number of non NA data but size count everything"
   ]
  },
  {
   "cell_type": "code",
   "execution_count": 51,
   "id": "11eaab57",
   "metadata": {},
   "outputs": [
    {
     "data": {
      "text/plain": [
       "193"
      ]
     },
     "execution_count": 51,
     "metadata": {},
     "output_type": "execute_result"
    }
   ],
   "source": [
    "alcohol.size"
   ]
  },
  {
   "cell_type": "code",
   "execution_count": 52,
   "id": "70011dde",
   "metadata": {},
   "outputs": [
    {
     "data": {
      "text/plain": [
       "162"
      ]
     },
     "execution_count": 52,
     "metadata": {},
     "output_type": "execute_result"
    }
   ],
   "source": [
    "alcohol.count()"
   ]
  },
  {
   "cell_type": "code",
   "execution_count": 54,
   "id": "7027b825",
   "metadata": {},
   "outputs": [
    {
     "data": {
      "text/plain": [
       "True"
      ]
     },
     "execution_count": 54,
     "metadata": {},
     "output_type": "execute_result"
    }
   ],
   "source": [
    "#To Verfiy our series has NA we can use below functions\n",
    "alcohol.hasnans"
   ]
  },
  {
   "cell_type": "code",
   "execution_count": 55,
   "id": "a2d7c352",
   "metadata": {},
   "outputs": [
    {
     "data": {
      "text/plain": [
       "country\n",
       "Afghanistan     True\n",
       "Albania        False\n",
       "Algeria        False\n",
       "Andorra        False\n",
       "Angola         False\n",
       "               ...  \n",
       "Venezuela      False\n",
       "Vietnam        False\n",
       "Yemen           True\n",
       "Zambia         False\n",
       "Zimbabwe       False\n",
       "Name: alcohol, Length: 193, dtype: bool"
      ]
     },
     "execution_count": 55,
     "metadata": {},
     "output_type": "execute_result"
    }
   ],
   "source": [
    "alcohol.isnull()"
   ]
  },
  {
   "cell_type": "markdown",
   "id": "63b6b830",
   "metadata": {},
   "source": [
    "#### Below are Methods on handling NAN/NA in series"
   ]
  },
  {
   "cell_type": "code",
   "execution_count": 56,
   "id": "bbc58b1a",
   "metadata": {},
   "outputs": [
    {
     "data": {
      "text/plain": [
       "False"
      ]
     },
     "execution_count": 56,
     "metadata": {},
     "output_type": "execute_result"
    }
   ],
   "source": [
    "alcohol.isnull().all()\n",
    "#check whether all data is null or not"
   ]
  },
  {
   "cell_type": "code",
   "execution_count": 62,
   "id": "e6c282de",
   "metadata": {},
   "outputs": [
    {
     "data": {
      "text/plain": [
       "['Afghanistan',\n",
       " 'Bangladesh',\n",
       " 'Bhutan',\n",
       " 'Burundi',\n",
       " 'North Korea',\n",
       " 'Eritrea',\n",
       " 'Ethiopia',\n",
       " 'India',\n",
       " 'Indonesia',\n",
       " 'Iran',\n",
       " 'Iraq',\n",
       " 'Kuwait',\n",
       " 'Lesotho',\n",
       " 'Libya',\n",
       " 'Malaysia',\n",
       " 'Maldives',\n",
       " 'Marshall Islands',\n",
       " 'Mauritania',\n",
       " 'Monaco',\n",
       " 'Myanmar',\n",
       " 'Nepal',\n",
       " 'Pakistan',\n",
       " 'Rwanda',\n",
       " 'San Marino',\n",
       " 'Saudi Arabia',\n",
       " 'Somalia',\n",
       " 'Sri Lanka',\n",
       " 'Sudan',\n",
       " 'Tajikistan',\n",
       " 'Uganda',\n",
       " 'Yemen']"
      ]
     },
     "execution_count": 62,
     "metadata": {},
     "output_type": "execute_result"
    }
   ],
   "source": [
    "#taking out countries which has NA/Null values\n",
    "list(alcohol[alcohol.isnull()].index)"
   ]
  },
  {
   "cell_type": "code",
   "execution_count": 63,
   "id": "43882194",
   "metadata": {},
   "outputs": [
    {
     "data": {
      "text/plain": [
       "31"
      ]
     },
     "execution_count": 63,
     "metadata": {},
     "output_type": "execute_result"
    }
   ],
   "source": [
    "alcohol.isnull().sum()"
   ]
  },
  {
   "cell_type": "code",
   "execution_count": 65,
   "id": "4993ea5b",
   "metadata": {},
   "outputs": [
    {
     "data": {
      "text/plain": [
       "3"
      ]
     },
     "execution_count": 65,
     "metadata": {},
     "output_type": "execute_result"
    }
   ],
   "source": [
    "#Why the above line works is in python boolean is integer operatable so each true is 1 and it can be summed\n",
    "sum([True,True,False,True])"
   ]
  },
  {
   "cell_type": "code",
   "execution_count": 66,
   "id": "a6d3c9b1",
   "metadata": {},
   "outputs": [
    {
     "data": {
      "text/plain": [
       "31"
      ]
     },
     "execution_count": 66,
     "metadata": {},
     "output_type": "execute_result"
    }
   ],
   "source": [
    "alcohol.isna().sum()"
   ]
  },
  {
   "cell_type": "code",
   "execution_count": 3,
   "id": "5d840325",
   "metadata": {},
   "outputs": [
    {
     "data": {
      "text/plain": [
       "country\n",
       "Afghanistan    False\n",
       "Albania         True\n",
       "Algeria         True\n",
       "Andorra         True\n",
       "Angola          True\n",
       "               ...  \n",
       "Venezuela       True\n",
       "Vietnam         True\n",
       "Yemen          False\n",
       "Zambia          True\n",
       "Zimbabwe        True\n",
       "Name: wine_servings, Length: 193, dtype: bool"
      ]
     },
     "execution_count": 3,
     "metadata": {},
     "output_type": "execute_result"
    }
   ],
   "source": [
    "alcohol.notnull()"
   ]
  },
  {
   "cell_type": "code",
   "execution_count": 4,
   "id": "8acc01ba",
   "metadata": {},
   "outputs": [
    {
     "data": {
      "text/plain": [
       "162"
      ]
     },
     "execution_count": 4,
     "metadata": {},
     "output_type": "execute_result"
    }
   ],
   "source": [
    "alcohol.notnull().sum()"
   ]
  },
  {
   "cell_type": "code",
   "execution_count": 5,
   "id": "a576ca60",
   "metadata": {},
   "outputs": [
    {
     "data": {
      "text/plain": [
       "162"
      ]
     },
     "execution_count": 5,
     "metadata": {},
     "output_type": "execute_result"
    }
   ],
   "source": [
    "alcohol.count()"
   ]
  },
  {
   "cell_type": "code",
   "execution_count": 6,
   "id": "01718cb4",
   "metadata": {},
   "outputs": [
    {
     "data": {
      "text/plain": [
       "True"
      ]
     },
     "execution_count": 6,
     "metadata": {},
     "output_type": "execute_result"
    }
   ],
   "source": [
    "alcohol.notnull().sum() + alcohol.isnull().sum() == alcohol.size"
   ]
  },
  {
   "cell_type": "markdown",
   "id": "3c6f8265",
   "metadata": {},
   "source": [
    "   #### Boolean is treated as int in python as boolean is a subclqass of interger which is a subclass of object. You can see the same in method resolution order."
   ]
  },
  {
   "cell_type": "code",
   "execution_count": 10,
   "id": "c3bd2f3f",
   "metadata": {},
   "outputs": [
    {
     "data": {
      "text/plain": [
       "bool"
      ]
     },
     "execution_count": 10,
     "metadata": {},
     "output_type": "execute_result"
    }
   ],
   "source": [
    "type(True)"
   ]
  },
  {
   "cell_type": "code",
   "execution_count": 15,
   "id": "cbde352b",
   "metadata": {},
   "outputs": [
    {
     "data": {
      "text/plain": [
       "(bool, int, object)"
      ]
     },
     "execution_count": 15,
     "metadata": {},
     "output_type": "execute_result"
    }
   ],
   "source": [
    "bool.__mro__\n",
    "## while resplving any method function it looks in bool first then see in int then go to object thats why .sum() works for boolean as \n",
    "##its present in int"
   ]
  },
  {
   "cell_type": "code",
   "execution_count": 12,
   "id": "eac5817d",
   "metadata": {},
   "outputs": [
    {
     "data": {
      "text/plain": [
       "(float, object)"
      ]
     },
     "execution_count": 12,
     "metadata": {},
     "output_type": "execute_result"
    }
   ],
   "source": [
    "float.__mro__"
   ]
  },
  {
   "cell_type": "code",
   "execution_count": 17,
   "id": "c3acde63",
   "metadata": {},
   "outputs": [],
   "source": [
    "#Assining non null data to wine servings\n",
    "wine_servings=alcohol[alcohol.notnull()]"
   ]
  },
  {
   "cell_type": "code",
   "execution_count": 19,
   "id": "90e91eb1",
   "metadata": {},
   "outputs": [
    {
     "data": {
      "text/plain": [
       "0"
      ]
     },
     "execution_count": 19,
     "metadata": {},
     "output_type": "execute_result"
    }
   ],
   "source": [
    "wine_servings.isnull().sum()\n",
    "#good it worked"
   ]
  },
  {
   "cell_type": "code",
   "execution_count": 42,
   "id": "4e373506",
   "metadata": {},
   "outputs": [
    {
     "data": {
      "text/plain": [
       "8221.0"
      ]
     },
     "execution_count": 42,
     "metadata": {},
     "output_type": "execute_result"
    }
   ],
   "source": [
    "##Total wine consumed by all countries . ##sum by default ignores NA\n",
    "wine_servings.sum()"
   ]
  },
  {
   "cell_type": "code",
   "execution_count": 25,
   "id": "73d51d75",
   "metadata": {},
   "outputs": [
    {
     "data": {
      "text/plain": [
       "380.0"
      ]
     },
     "execution_count": 25,
     "metadata": {},
     "output_type": "execute_result"
    }
   ],
   "source": [
    "wine_servings.head(3).sum()"
   ]
  },
  {
   "cell_type": "code",
   "execution_count": 26,
   "id": "4e5efa09",
   "metadata": {},
   "outputs": [
    {
     "data": {
      "text/plain": [
       "country\n",
       "Albania     54.0\n",
       "Algeria     14.0\n",
       "Andorra    312.0\n",
       "Name: wine_servings, dtype: float64"
      ]
     },
     "execution_count": 26,
     "metadata": {},
     "output_type": "execute_result"
    }
   ],
   "source": [
    "wine_servings.head(3)"
   ]
  },
  {
   "cell_type": "code",
   "execution_count": 33,
   "id": "ea762016",
   "metadata": {},
   "outputs": [
    {
     "data": {
      "text/plain": [
       "country\n",
       "Albania              False\n",
       "Algeria              False\n",
       "Andorra               True\n",
       "Angola               False\n",
       "Antigua & Barbuda    False\n",
       "                     ...  \n",
       "Vanuatu              False\n",
       "Venezuela            False\n",
       "Vietnam              False\n",
       "Zambia               False\n",
       "Zimbabwe             False\n",
       "Name: wine_servings, Length: 162, dtype: bool"
      ]
     },
     "execution_count": 33,
     "metadata": {},
     "output_type": "execute_result"
    }
   ],
   "source": [
    "wine_servings >100"
   ]
  },
  {
   "cell_type": "code",
   "execution_count": 32,
   "id": "a762b271",
   "metadata": {},
   "outputs": [
    {
     "data": {
      "text/plain": [
       "5805.0"
      ]
     },
     "execution_count": 32,
     "metadata": {},
     "output_type": "execute_result"
    }
   ],
   "source": [
    "#calcultaing total sum of wine consumed only for countries which consumed more than 100\n",
    "wine_servings[wine_servings >100].sum()"
   ]
  },
  {
   "cell_type": "markdown",
   "id": "94c291c2",
   "metadata": {},
   "source": [
    "### Droping and Filling NAs"
   ]
  },
  {
   "cell_type": "code",
   "execution_count": 35,
   "id": "45502616",
   "metadata": {},
   "outputs": [
    {
     "data": {
      "text/plain": [
       "193"
      ]
     },
     "execution_count": 35,
     "metadata": {},
     "output_type": "execute_result"
    }
   ],
   "source": [
    "alcohol.size"
   ]
  },
  {
   "cell_type": "code",
   "execution_count": 38,
   "id": "966aa1ae",
   "metadata": {},
   "outputs": [
    {
     "data": {
      "text/plain": [
       "country\n",
       "Albania               54.0\n",
       "Algeria               14.0\n",
       "Andorra              312.0\n",
       "Angola                45.0\n",
       "Antigua & Barbuda     45.0\n",
       "                     ...  \n",
       "Vanuatu               11.0\n",
       "Venezuela              3.0\n",
       "Vietnam                1.0\n",
       "Zambia                 4.0\n",
       "Zimbabwe               4.0\n",
       "Name: wine_servings, Length: 162, dtype: float64"
      ]
     },
     "execution_count": 38,
     "metadata": {},
     "output_type": "execute_result"
    }
   ],
   "source": [
    "#To drop NA values it wont change source but just gives copy of series without NAs\n",
    "alcohol.dropna()"
   ]
  },
  {
   "cell_type": "code",
   "execution_count": 39,
   "id": "46386d9e",
   "metadata": {},
   "outputs": [],
   "source": [
    "#If you want to change the source then dropna method we need to change parameter \"inplace =True\" so it will drop all NA and\n",
    "#that source will get modified and returned . by default it will be set to False\n",
    "\n",
    "#alcohol.dropna(inplace=True)\n",
    "# or you can reassign or you can reassign => alcohol = alcohol.dropna()"
   ]
  },
  {
   "cell_type": "markdown",
   "id": "524bf3d0",
   "metadata": {},
   "source": [
    "#### Replacing NA or filling NA wchihc can be helpful in some cases"
   ]
  },
  {
   "cell_type": "code",
   "execution_count": 40,
   "id": "a8a18519",
   "metadata": {},
   "outputs": [
    {
     "data": {
      "text/plain": [
       "country\n",
       "Afghanistan    100.0\n",
       "Albania         54.0\n",
       "Algeria         14.0\n",
       "Andorra        312.0\n",
       "Angola          45.0\n",
       "               ...  \n",
       "Venezuela        3.0\n",
       "Vietnam          1.0\n",
       "Yemen          100.0\n",
       "Zambia           4.0\n",
       "Zimbabwe         4.0\n",
       "Name: wine_servings, Length: 193, dtype: float64"
      ]
     },
     "execution_count": 40,
     "metadata": {},
     "output_type": "execute_result"
    }
   ],
   "source": [
    "#Method used is fillna(100,inplace=False) Here 100 is wehat you want to fill/replace in NA you can give ur w+own value\n",
    "alcohol.fillna(100,inplace=False)"
   ]
  },
  {
   "cell_type": "code",
   "execution_count": 41,
   "id": "e3afee17",
   "metadata": {},
   "outputs": [],
   "source": [
    "#Both methods by default return copy wont change original if need to be chage original then change \"inplace\" parameter"
   ]
  },
  {
   "cell_type": "markdown",
   "id": "f26e2a28",
   "metadata": {},
   "source": [
    "### Basic Descriptive Statistic Functions"
   ]
  },
  {
   "cell_type": "code",
   "execution_count": 5,
   "id": "0fafd903",
   "metadata": {},
   "outputs": [
    {
     "data": {
      "text/plain": [
       "50.74691358024691"
      ]
     },
     "execution_count": 5,
     "metadata": {},
     "output_type": "execute_result"
    }
   ],
   "source": [
    "#Average\n",
    "alcohol.sum()/alcohol.count()"
   ]
  },
  {
   "cell_type": "code",
   "execution_count": 6,
   "id": "a5b725df",
   "metadata": {},
   "outputs": [
    {
     "data": {
      "text/plain": [
       "50.74691358024691"
      ]
     },
     "execution_count": 6,
     "metadata": {},
     "output_type": "execute_result"
    }
   ],
   "source": [
    "#in built function also there\n",
    "alcohol.mean()"
   ]
  },
  {
   "cell_type": "code",
   "execution_count": 7,
   "id": "05fe64ff",
   "metadata": {},
   "outputs": [
    {
     "data": {
      "text/plain": [
       "11.5"
      ]
     },
     "execution_count": 7,
     "metadata": {},
     "output_type": "execute_result"
    }
   ],
   "source": [
    "alcohol.median()\n"
   ]
  },
  {
   "cell_type": "code",
   "execution_count": 9,
   "id": "8673f77f",
   "metadata": {},
   "outputs": [
    {
     "data": {
      "text/plain": [
       "11.5"
      ]
     },
     "execution_count": 9,
     "metadata": {},
     "output_type": "execute_result"
    }
   ],
   "source": [
    "alcohol.quantile(.5)"
   ]
  },
  {
   "cell_type": "markdown",
   "id": "915b7a60",
   "metadata": {},
   "source": [
    "#### We can obsere+ve that average and mean has so much difference it mostly skewed here its positive skewed ie) more high value observation"
   ]
  },
  {
   "cell_type": "code",
   "execution_count": 8,
   "id": "41cc9c05",
   "metadata": {},
   "outputs": [
    {
     "data": {
      "text/plain": [
       "<matplotlib.axes._subplots.AxesSubplot at 0x2ab276f7a90>"
      ]
     },
     "execution_count": 8,
     "metadata": {},
     "output_type": "execute_result"
    },
    {
     "data": {
      "image/png": "[encoded data removed]",
      "text/plain": [
       "<Figure size 432x288 with 1 Axes>"
      ]
     },
     "metadata": {
      "needs_background": "light"
     },
     "output_type": "display_data"
    }
   ],
   "source": [
    "alcohol.hist()"
   ]
  },
  {
   "cell_type": "code",
   "execution_count": 10,
   "id": "e5bb9d70",
   "metadata": {},
   "outputs": [],
   "source": [
    "inter_quartile_range =alcohol.quantile(.75) - alcohol.quantile(.25)"
   ]
  },
  {
   "cell_type": "code",
   "execution_count": 11,
   "id": "b355d669",
   "metadata": {},
   "outputs": [
    {
     "data": {
      "text/plain": [
       "58.25"
      ]
     },
     "execution_count": 11,
     "metadata": {},
     "output_type": "execute_result"
    }
   ],
   "source": [
    "inter_quartile_range "
   ]
  },
  {
   "cell_type": "code",
   "execution_count": 12,
   "id": "158984ba",
   "metadata": {},
   "outputs": [
    {
     "data": {
      "text/plain": [
       "1.0"
      ]
     },
     "execution_count": 12,
     "metadata": {},
     "output_type": "execute_result"
    }
   ],
   "source": [
    "alcohol.min()"
   ]
  },
  {
   "cell_type": "code",
   "execution_count": 13,
   "id": "092cd385",
   "metadata": {},
   "outputs": [
    {
     "data": {
      "text/plain": [
       "339.0"
      ]
     },
     "execution_count": 13,
     "metadata": {},
     "output_type": "execute_result"
    }
   ],
   "source": [
    "alcohol.max()"
   ]
  },
  {
   "cell_type": "code",
   "execution_count": 14,
   "id": "0268e56e",
   "metadata": {},
   "outputs": [
    {
     "data": {
      "text/plain": [
       "76.13491716376173"
      ]
     },
     "execution_count": 14,
     "metadata": {},
     "output_type": "execute_result"
    }
   ],
   "source": [
    "alcohol.std()"
   ]
  },
  {
   "cell_type": "code",
   "execution_count": 16,
   "id": "80cf1238",
   "metadata": {},
   "outputs": [
    {
     "data": {
      "text/plain": [
       "5796.52561153286"
      ]
     },
     "execution_count": 16,
     "metadata": {},
     "output_type": "execute_result"
    }
   ],
   "source": [
    "alcohol.var()"
   ]
  },
  {
   "cell_type": "markdown",
   "id": "1135386a",
   "metadata": {},
   "source": [
    "### Describe Method -> All basic Stats details can be retrived from this"
   ]
  },
  {
   "cell_type": "code",
   "execution_count": 18,
   "id": "9365f7cb",
   "metadata": {},
   "outputs": [
    {
     "data": {
      "text/plain": [
       "count    162.000000\n",
       "mean      50.746914\n",
       "std       76.134917\n",
       "min        1.000000\n",
       "25%        3.000000\n",
       "50%       11.500000\n",
       "75%       61.250000\n",
       "max      339.000000\n",
       "Name: wine_servings, dtype: float64"
      ]
     },
     "execution_count": 18,
     "metadata": {},
     "output_type": "execute_result"
    }
   ],
   "source": [
    "alcohol.describe()"
   ]
  },
  {
   "cell_type": "markdown",
   "id": "bbcdfa2b",
   "metadata": {},
   "source": [
    "### Mode and value_counts"
   ]
  },
  {
   "cell_type": "code",
   "execution_count": 26,
   "id": "9c3a9c4b",
   "metadata": {},
   "outputs": [],
   "source": [
    "#Mode will give what is the highest repeated value and value counts we get sorted series of count of occurance for all unique values\n"
   ]
  },
  {
   "cell_type": "code",
   "execution_count": 20,
   "id": "5be1245a",
   "metadata": {},
   "outputs": [
    {
     "data": {
      "text/plain": [
       "0    1.0\n",
       "Name: wine_servings, dtype: float64"
      ]
     },
     "execution_count": 20,
     "metadata": {},
     "output_type": "execute_result"
    }
   ],
   "source": [
    "alcohol.mode()\n",
    "# so 1 is the most repeated value"
   ]
  },
  {
   "cell_type": "code",
   "execution_count": 23,
   "id": "cac5b817",
   "metadata": {},
   "outputs": [
    {
     "data": {
      "text/plain": [
       "28"
      ]
     },
     "execution_count": 23,
     "metadata": {},
     "output_type": "execute_result"
    }
   ],
   "source": [
    "alcohol[alcohol==1].size\n",
    "#how many coutnries have 1 "
   ]
  },
  {
   "cell_type": "code",
   "execution_count": 25,
   "id": "9743f9aa",
   "metadata": {},
   "outputs": [
    {
     "data": {
      "text/plain": [
       "1.0      28\n",
       "2.0      10\n",
       "7.0       9\n",
       "8.0       7\n",
       "5.0       6\n",
       "         ..\n",
       "218.0     1\n",
       "185.0     1\n",
       "78.0      1\n",
       "165.0     1\n",
       "22.0      1\n",
       "Name: wine_servings, Length: 71, dtype: int64"
      ]
     },
     "execution_count": 25,
     "metadata": {},
     "output_type": "execute_result"
    }
   ],
   "source": [
    "alcohol.value_counts()"
   ]
  },
  {
   "cell_type": "code",
   "execution_count": 27,
   "id": "a8b4465a",
   "metadata": {},
   "outputs": [
    {
     "data": {
      "text/plain": [
       "1.0      0.172840\n",
       "2.0      0.061728\n",
       "7.0      0.055556\n",
       "8.0      0.043210\n",
       "5.0      0.037037\n",
       "           ...   \n",
       "218.0    0.006173\n",
       "185.0    0.006173\n",
       "78.0     0.006173\n",
       "165.0    0.006173\n",
       "22.0     0.006173\n",
       "Name: wine_servings, Length: 71, dtype: float64"
      ]
     },
     "execution_count": 27,
     "metadata": {},
     "output_type": "execute_result"
    }
   ],
   "source": [
    "alcohol.value_counts(normalize=True)"
   ]
  },
  {
   "cell_type": "code",
   "execution_count": 28,
   "id": "56e30c12",
   "metadata": {},
   "outputs": [
    {
     "data": {
      "text/plain": [
       "0.1728395061728395"
      ]
     },
     "execution_count": 28,
     "metadata": {},
     "output_type": "execute_result"
    }
   ],
   "source": [
    "alcohol[alcohol==1].size/alcohol.count()"
   ]
  },
  {
   "cell_type": "markdown",
   "id": "371d6f69",
   "metadata": {},
   "source": [
    "### idxmax() and idxmin()"
   ]
  },
  {
   "cell_type": "markdown",
   "id": "3d4ca532",
   "metadata": {},
   "source": [
    "##### if you want to get only index value of the max , in this case like you want to get country which has highest consumption means we have inbuilt function for that idxmax() , same way for minimum its idxmin()"
   ]
  },
  {
   "cell_type": "markdown",
   "id": "9d5b0f29",
   "metadata": {},
   "source": [
    "###### But there is a catch it only retunrs the one max/min index if there are many it will sort and the least index/ if alphabet means\n",
    "###### that order will be followed. in this case we have so many minimum consuming countries but we get only brunei becoz its alphabatical first"
   ]
  },
  {
   "cell_type": "code",
   "execution_count": 30,
   "id": "3d8bb817",
   "metadata": {},
   "outputs": [
    {
     "data": {
      "text/plain": [
       "country\n",
       "Portugal    339.0\n",
       "Name: wine_servings, dtype: float64"
      ]
     },
     "execution_count": 30,
     "metadata": {},
     "output_type": "execute_result"
    }
   ],
   "source": [
    "#using max we can gett but bit clumsy\n",
    "alcohol[alcohol==alcohol.max()]"
   ]
  },
  {
   "cell_type": "code",
   "execution_count": 31,
   "id": "bc53e2da",
   "metadata": {},
   "outputs": [
    {
     "data": {
      "text/plain": [
       "'Portugal'"
      ]
     },
     "execution_count": 31,
     "metadata": {},
     "output_type": "execute_result"
    }
   ],
   "source": [
    "alcohol.idxmax()"
   ]
  },
  {
   "cell_type": "code",
   "execution_count": 32,
   "id": "c488f959",
   "metadata": {},
   "outputs": [
    {
     "data": {
      "text/plain": [
       "'Brunei'"
      ]
     },
     "execution_count": 32,
     "metadata": {},
     "output_type": "execute_result"
    }
   ],
   "source": [
    "alcohol.idxmin()"
   ]
  },
  {
   "cell_type": "code",
   "execution_count": 33,
   "id": "99d9af00",
   "metadata": {},
   "outputs": [
    {
     "data": {
      "text/plain": [
       "country\n",
       "Brunei                      1.0\n",
       "Cambodia                    1.0\n",
       "Canada                      1.0\n",
       "Central African Republic    1.0\n",
       "Chad                        1.0\n",
       "Comoros                     1.0\n",
       "DR Congo                    1.0\n",
       "Egypt                       1.0\n",
       "Fiji                        1.0\n",
       "Gambia                      1.0\n",
       "Ghana                       1.0\n",
       "Guyana                      1.0\n",
       "Haiti                       1.0\n",
       "Jordan                      1.0\n",
       "Kiribati                    1.0\n",
       "Malawi                      1.0\n",
       "Mali                        1.0\n",
       "Morocco                     1.0\n",
       "Namibia                     1.0\n",
       "Nicaragua                   1.0\n",
       "Niger                       1.0\n",
       "Oman                        1.0\n",
       "Papua New Guinea            1.0\n",
       "Philippines                 1.0\n",
       "Solomon Islands             1.0\n",
       "Thailand                    1.0\n",
       "Tanzania                    1.0\n",
       "Vietnam                     1.0\n",
       "Name: wine_servings, dtype: float64"
      ]
     },
     "execution_count": 33,
     "metadata": {},
     "output_type": "execute_result"
    }
   ],
   "source": [
    "alcohol[alcohol==alcohol.min()]"
   ]
  },
  {
   "cell_type": "markdown",
   "id": "e299f389",
   "metadata": {},
   "source": [
    "### Sorting => return copy of sorted one | to make changes affect source change inplace =True"
   ]
  },
  {
   "cell_type": "code",
   "execution_count": 34,
   "id": "4fd19929",
   "metadata": {},
   "outputs": [
    {
     "data": {
      "text/plain": [
       "country\n",
       "Thailand           1.0\n",
       "Solomon Islands    1.0\n",
       "Brunei             1.0\n",
       "Haiti              1.0\n",
       "Cambodia           1.0\n",
       "                  ... \n",
       "Sri Lanka          NaN\n",
       "Sudan              NaN\n",
       "Tajikistan         NaN\n",
       "Uganda             NaN\n",
       "Yemen              NaN\n",
       "Name: wine_servings, Length: 193, dtype: float64"
      ]
     },
     "execution_count": 34,
     "metadata": {},
     "output_type": "execute_result"
    }
   ],
   "source": [
    "alcohol.sort_values()"
   ]
  },
  {
   "cell_type": "code",
   "execution_count": 39,
   "id": "20b4f6ac",
   "metadata": {},
   "outputs": [
    {
     "data": {
      "text/plain": [
       "country\n",
       "Portugal      339.0\n",
       "Andorra       312.0\n",
       "Denmark       278.0\n",
       "Slovenia      276.0\n",
       "Luxembourg    271.0\n",
       "              ...  \n",
       "Sri Lanka       NaN\n",
       "Sudan           NaN\n",
       "Tajikistan      NaN\n",
       "Uganda          NaN\n",
       "Yemen           NaN\n",
       "Name: wine_servings, Length: 193, dtype: float64"
      ]
     },
     "execution_count": 39,
     "metadata": {},
     "output_type": "execute_result"
    }
   ],
   "source": [
    "#To sort descending  na_position => to keep na posiions like first last\n",
    "alcohol.sort_values(ascending=False, na_position='last',inplace=False)"
   ]
  },
  {
   "cell_type": "markdown",
   "id": "2a82db9c",
   "metadata": {},
   "source": [
    "### nLargest nSmallest => to get top n smallest/largest values"
   ]
  },
  {
   "cell_type": "code",
   "execution_count": 40,
   "id": "551b33bf",
   "metadata": {},
   "outputs": [
    {
     "data": {
      "text/plain": [
       "country\n",
       "Portugal             339.0\n",
       "Andorra              312.0\n",
       "Denmark              278.0\n",
       "Slovenia             276.0\n",
       "Luxembourg           271.0\n",
       "Croatia              254.0\n",
       "Italy                237.0\n",
       "Equatorial Guinea    233.0\n",
       "Argentina            221.0\n",
       "Greece               218.0\n",
       "Name: wine_servings, dtype: float64"
      ]
     },
     "execution_count": 40,
     "metadata": {},
     "output_type": "execute_result"
    }
   ],
   "source": [
    "alcohol.nlargest(n=10)"
   ]
  },
  {
   "cell_type": "code",
   "execution_count": 41,
   "id": "5c087afd",
   "metadata": {},
   "outputs": [
    {
     "data": {
      "text/plain": [
       "country\n",
       "Brunei                      1.0\n",
       "Cambodia                    1.0\n",
       "Canada                      1.0\n",
       "Central African Republic    1.0\n",
       "Chad                        1.0\n",
       "Comoros                     1.0\n",
       "DR Congo                    1.0\n",
       "Egypt                       1.0\n",
       "Fiji                        1.0\n",
       "Gambia                      1.0\n",
       "Name: wine_servings, dtype: float64"
      ]
     },
     "execution_count": 41,
     "metadata": {},
     "output_type": "execute_result"
    }
   ],
   "source": [
    "alcohol.nsmallest(n=10)"
   ]
  },
  {
   "cell_type": "code",
   "execution_count": 46,
   "id": "a479740c",
   "metadata": {},
   "outputs": [
    {
     "data": {
      "text/plain": [
       "country\n",
       "Thailand                    1.0\n",
       "Solomon Islands             1.0\n",
       "Brunei                      1.0\n",
       "Haiti                       1.0\n",
       "Cambodia                    1.0\n",
       "Guyana                      1.0\n",
       "Canada                      1.0\n",
       "Jordan                      1.0\n",
       "Central African Republic    1.0\n",
       "Comoros                     1.0\n",
       "Name: wine_servings, dtype: float64"
      ]
     },
     "execution_count": 46,
     "metadata": {},
     "output_type": "execute_result"
    }
   ],
   "source": [
    "#Another way using sort but it has different order becoz nsmallest/nlargest sort index also but sort_values only the vlaues\n",
    "alcohol.sort_values(ascending =True)[:10]"
   ]
  },
  {
   "cell_type": "code",
   "execution_count": 1,
   "id": "f040e08f",
   "metadata": {},
   "outputs": [],
   "source": [
    "import pandas as pd "
   ]
  },
  {
   "cell_type": "code",
   "execution_count": 19,
   "id": "11eb2277",
   "metadata": {},
   "outputs": [
    {
     "name": "stderr",
     "output_type": "stream",
     "text": [
      "C:\\Users\\sgdee\\AppData\\Local\\Temp\\ipykernel_12040\\555731800.py:2: FutureWarning: The squeeze argument has been deprecated and will be removed in a future version. Append .squeeze(\"columns\") to the call to squeeze.\n",
      "\n",
      "\n",
      "  alcohol = pd.read_csv('https://gist.githubusercontent.com/sh7ata/e075ff35b51ebb0d2d577fbe1d19ebc9/raw/b966d02c7c26bcca60703acb1390e938a65a35cb/drinks.csv'\n"
     ]
    },
    {
     "data": {
      "text/plain": [
       "'Squeeze parameter going to be removed instead we need to use .squeeze (https://pandas.pydata.org/pandas-docs/stable/reference/api/pandas.DataFrame.squeeze.html)'"
      ]
     },
     "execution_count": 19,
     "metadata": {},
     "output_type": "execute_result"
    }
   ],
   "source": [
    "import pandas as pd\n",
    "alcohol = pd.read_csv('https://gist.githubusercontent.com/sh7ata/e075ff35b51ebb0d2d577fbe1d19ebc9/raw/b966d02c7c26bcca60703acb1390e938a65a35cb/drinks.csv'\n",
    "            ,usecols=['country','wine_servings'],index_col='country',squeeze =True)\n",
    "\n",
    "\n",
    "'''Squeeze parameter going to be removed instead we need to use .squeeze (https://pandas.pydata.org/pandas-docs/stable/reference/api/pandas.DataFrame.squeeze.html)'''"
   ]
  },
  {
   "cell_type": "markdown",
   "id": "db8b6e1e",
   "metadata": {},
   "source": [
    "### Sort_values() & Sort_index()"
   ]
  },
  {
   "cell_type": "code",
   "execution_count": 4,
   "id": "3e30f2d3",
   "metadata": {},
   "outputs": [
    {
     "data": {
      "text/plain": [
       "country\n",
       "Thailand           1.0\n",
       "Solomon Islands    1.0\n",
       "Brunei             1.0\n",
       "Haiti              1.0\n",
       "Cambodia           1.0\n",
       "                  ... \n",
       "Sri Lanka          NaN\n",
       "Sudan              NaN\n",
       "Tajikistan         NaN\n",
       "Uganda             NaN\n",
       "Yemen              NaN\n",
       "Name: wine_servings, Length: 193, dtype: float64"
      ]
     },
     "execution_count": 4,
     "metadata": {},
     "output_type": "execute_result"
    }
   ],
   "source": [
    "alcohol.sort_values(na_position='last')"
   ]
  },
  {
   "cell_type": "code",
   "execution_count": 6,
   "id": "c37fa37e",
   "metadata": {},
   "outputs": [
    {
     "data": {
      "text/plain": [
       "country\n",
       "Afghanistan      NaN\n",
       "Albania         54.0\n",
       "Algeria         14.0\n",
       "Andorra        312.0\n",
       "Angola          45.0\n",
       "               ...  \n",
       "Venezuela        3.0\n",
       "Vietnam          1.0\n",
       "Yemen            NaN\n",
       "Zambia           4.0\n",
       "Zimbabwe         4.0\n",
       "Name: wine_servings, Length: 193, dtype: float64"
      ]
     },
     "execution_count": 6,
     "metadata": {},
     "output_type": "execute_result"
    }
   ],
   "source": [
    "alcohol.sort_index(na_position='last')\n",
    "#even though yoou use na position here set to last it not eflecting becoz there is no NA in index and we are using sort_index so"
   ]
  },
  {
   "cell_type": "code",
   "execution_count": 8,
   "id": "84cb5554",
   "metadata": {},
   "outputs": [
    {
     "data": {
      "text/plain": [
       "0"
      ]
     },
     "execution_count": 8,
     "metadata": {},
     "output_type": "execute_result"
    }
   ],
   "source": [
    "alcohol.index.isna().sum()"
   ]
  },
  {
   "cell_type": "code",
   "execution_count": 17,
   "id": "14fd7d5a",
   "metadata": {},
   "outputs": [
    {
     "data": {
      "text/plain": [
       "31"
      ]
     },
     "execution_count": 17,
     "metadata": {},
     "output_type": "execute_result"
    }
   ],
   "source": [
    "alcohol.isna().sum()"
   ]
  },
  {
   "cell_type": "markdown",
   "id": "77827b95",
   "metadata": {},
   "source": [
    "### skill challenge "
   ]
  },
  {
   "cell_type": "code",
   "execution_count": 21,
   "id": "1dc37150",
   "metadata": {},
   "outputs": [],
   "source": [
    "#countries with more than 50 wine servings\n",
    "fifty_plus=alcohol[alcohol >50]"
   ]
  },
  {
   "cell_type": "code",
   "execution_count": 28,
   "id": "a0d83ac9",
   "metadata": {},
   "outputs": [
    {
     "data": {
      "text/plain": [
       "48"
      ]
     },
     "execution_count": 28,
     "metadata": {},
     "output_type": "execute_result"
    }
   ],
   "source": [
    "fifty_plus.count()"
   ]
  },
  {
   "cell_type": "code",
   "execution_count": 30,
   "id": "f074ce01",
   "metadata": {},
   "outputs": [
    {
     "data": {
      "text/plain": [
       "country\n",
       "Bahamas                51.0\n",
       "Seychelles             51.0\n",
       "Albania                54.0\n",
       "Lithuania              56.0\n",
       "Poland                 56.0\n",
       "Estonia                59.0\n",
       "Gabon                  59.0\n",
       "Latvia                 62.0\n",
       "St. Lucia              71.0\n",
       "Russian Federation     73.0\n",
       "Cook Islands           74.0\n",
       "Paraguay               74.0\n",
       "Iceland                78.0\n",
       "South Africa           81.0\n",
       "USA                    84.0\n",
       "Macedonia              86.0\n",
       "Bulgaria               94.0\n",
       "Finland                97.0\n",
       "Spain                 112.0\n",
       "Cyprus                113.0\n",
       "Name: wine_servings, dtype: float64"
      ]
     },
     "execution_count": 30,
     "metadata": {},
     "output_type": "execute_result"
    }
   ],
   "source": [
    "fifty_plus.nsmallest(n=20)"
   ]
  },
  {
   "cell_type": "code",
   "execution_count": 25,
   "id": "131ebb58",
   "metadata": {},
   "outputs": [
    {
     "data": {
      "text/plain": [
       "count     20.000000\n",
       "mean      74.250000\n",
       "std       19.072921\n",
       "min       51.000000\n",
       "25%       58.250000\n",
       "50%       73.500000\n",
       "75%       84.500000\n",
       "max      113.000000\n",
       "Name: wine_servings, dtype: float64"
      ]
     },
     "execution_count": 25,
     "metadata": {},
     "output_type": "execute_result"
    }
   ],
   "source": [
    "fifty_plus.sort_values().head(20).describe()"
   ]
  },
  {
   "cell_type": "code",
   "execution_count": 32,
   "id": "001bdbf2",
   "metadata": {},
   "outputs": [
    {
     "data": {
      "text/plain": [
       "count     20.000000\n",
       "mean      74.250000\n",
       "std       19.072921\n",
       "min       51.000000\n",
       "25%       58.250000\n",
       "50%       73.500000\n",
       "75%       84.500000\n",
       "max      113.000000\n",
       "Name: wine_servings, dtype: float64"
      ]
     },
     "execution_count": 32,
     "metadata": {},
     "output_type": "execute_result"
    }
   ],
   "source": [
    "fifty_plus.nsmallest(n=20).describe()"
   ]
  },
  {
   "cell_type": "markdown",
   "id": "0d45f82a",
   "metadata": {},
   "source": [
    "### Series Arthmetic and fill values"
   ]
  },
  {
   "cell_type": "markdown",
   "id": "2a39b8d0",
   "metadata": {},
   "source": [
    "###### If you want to add/ any arthmetic operation to as series that is possible by default"
   ]
  },
  {
   "cell_type": "code",
   "execution_count": 35,
   "id": "8f846a84",
   "metadata": {},
   "outputs": [
    {
     "data": {
      "text/plain": [
       "country\n",
       "Afghanistan      NaN\n",
       "Albania         56.0\n",
       "Algeria         16.0\n",
       "Andorra        314.0\n",
       "Angola          47.0\n",
       "Name: wine_servings, dtype: float64"
      ]
     },
     "execution_count": 35,
     "metadata": {},
     "output_type": "execute_result"
    }
   ],
   "source": [
    "(alcohol +2).head()"
   ]
  },
  {
   "cell_type": "code",
   "execution_count": 37,
   "id": "46c749b8",
   "metadata": {},
   "outputs": [
    {
     "data": {
      "text/plain": [
       "country\n",
       "Afghanistan      NaN\n",
       "Albania         54.0\n",
       "Algeria         14.0\n",
       "Andorra        312.0\n",
       "Angola          45.0\n",
       "Name: wine_servings, dtype: float64"
      ]
     },
     "execution_count": 37,
     "metadata": {},
     "output_type": "execute_result"
    }
   ],
   "source": [
    "alcohol.head()"
   ]
  },
  {
   "cell_type": "code",
   "execution_count": 38,
   "id": "f13ba539",
   "metadata": {},
   "outputs": [],
   "source": [
    "## you can see that it added 2 to all values. Like this all arthmetic operations are possible"
   ]
  },
  {
   "cell_type": "code",
   "execution_count": 41,
   "id": "73ed5189",
   "metadata": {},
   "outputs": [
    {
     "data": {
      "text/plain": [
       "country\n",
       "Afghanistan       NaN\n",
       "Albania        1076.0\n",
       "Algeria         276.0\n",
       "Andorra        6236.0\n",
       "Angola          896.0\n",
       "Name: wine_servings, dtype: float64"
      ]
     },
     "execution_count": 41,
     "metadata": {},
     "output_type": "execute_result"
    }
   ],
   "source": [
    "(alcohol *20 -4).head()"
   ]
  },
  {
   "cell_type": "code",
   "execution_count": 42,
   "id": "1957ddfe",
   "metadata": {},
   "outputs": [
    {
     "data": {
      "text/plain": [
       "country\n",
       "Afghanistan      NaN\n",
       "Albania         54.0\n",
       "Algeria         14.0\n",
       "Andorra        312.0\n",
       "Angola          45.0\n",
       "Name: wine_servings, dtype: float64"
      ]
     },
     "execution_count": 42,
     "metadata": {},
     "output_type": "execute_result"
    }
   ],
   "source": [
    "alcohol.sort_index().head()"
   ]
  },
  {
   "cell_type": "code",
   "execution_count": 52,
   "id": "2973fe42",
   "metadata": {},
   "outputs": [],
   "source": [
    "#lets say you want to add below to alcohol\n",
    "more_value=pd.Series({'Albania':52})"
   ]
  },
  {
   "cell_type": "code",
   "execution_count": 53,
   "id": "b5f02ed0",
   "metadata": {},
   "outputs": [
    {
     "data": {
      "text/plain": [
       "Afghanistan      NaN\n",
       "Albania        106.0\n",
       "Algeria          NaN\n",
       "Andorra          NaN\n",
       "Angola           NaN\n",
       "               ...  \n",
       "Venezuela        NaN\n",
       "Vietnam          NaN\n",
       "Yemen            NaN\n",
       "Zambia           NaN\n",
       "Zimbabwe         NaN\n",
       "Length: 193, dtype: float64"
      ]
     },
     "execution_count": 53,
     "metadata": {},
     "output_type": "execute_result"
    }
   ],
   "source": [
    "alcohol + more_value"
   ]
  },
  {
   "cell_type": "code",
   "execution_count": 54,
   "id": "e55a49cf",
   "metadata": {},
   "outputs": [],
   "source": [
    "# something fishy we did got albania added with more_values but others goign as NA , becoz no matching for them\n",
    "\n",
    "# To rectify this use ADD METHOD AND FILL VALUE AS 0 \n"
   ]
  },
  {
   "cell_type": "code",
   "execution_count": 56,
   "id": "d6084c87",
   "metadata": {},
   "outputs": [
    {
     "data": {
      "text/plain": [
       "Afghanistan      NaN\n",
       "Albania        106.0\n",
       "Algeria         14.0\n",
       "Andorra        312.0\n",
       "Angola          45.0\n",
       "               ...  \n",
       "Venezuela        3.0\n",
       "Vietnam          1.0\n",
       "Yemen            NaN\n",
       "Zambia           4.0\n",
       "Zimbabwe         4.0\n",
       "Length: 193, dtype: float64"
      ]
     },
     "execution_count": 56,
     "metadata": {},
     "output_type": "execute_result"
    }
   ],
   "source": [
    "alcohol.add(more_value,fill_value=0)"
   ]
  },
  {
   "cell_type": "code",
   "execution_count": 58,
   "id": "758335a0",
   "metadata": {},
   "outputs": [],
   "source": [
    "#Now we got what we want  below is syntax for subtract"
   ]
  },
  {
   "cell_type": "code",
   "execution_count": 59,
   "id": "57d14ce1",
   "metadata": {},
   "outputs": [
    {
     "data": {
      "text/plain": [
       "Afghanistan      NaN\n",
       "Albania          2.0\n",
       "Algeria         14.0\n",
       "Andorra        312.0\n",
       "Angola          45.0\n",
       "               ...  \n",
       "Venezuela        3.0\n",
       "Vietnam          1.0\n",
       "Yemen            NaN\n",
       "Zambia           4.0\n",
       "Zimbabwe         4.0\n",
       "Length: 193, dtype: float64"
      ]
     },
     "execution_count": 59,
     "metadata": {},
     "output_type": "execute_result"
    }
   ],
   "source": [
    "alcohol.subtract(more_value,fill_value=0)"
   ]
  },
  {
   "cell_type": "code",
   "execution_count": 60,
   "id": "799963f3",
   "metadata": {},
   "outputs": [],
   "source": [
    "# for multiplication and divide\n",
    "#alcohol.multiply(more_value,fill_value=1)\n",
    "#alcohol.divide(more_value,fill_value=1)"
   ]
  },
  {
   "cell_type": "markdown",
   "id": "bf58ec01",
   "metadata": {},
   "source": [
    "#### Replicating var() and std() method"
   ]
  },
  {
   "cell_type": "code",
   "execution_count": 61,
   "id": "df1c56c9",
   "metadata": {},
   "outputs": [
    {
     "data": {
      "text/plain": [
       "5796.52561153286"
      ]
     },
     "execution_count": 61,
     "metadata": {},
     "output_type": "execute_result"
    }
   ],
   "source": [
    "alcohol.var()"
   ]
  },
  {
   "cell_type": "code",
   "execution_count": 63,
   "id": "4714feea",
   "metadata": {},
   "outputs": [
    {
     "data": {
      "text/plain": [
       "5796.5256115328575"
      ]
     },
     "execution_count": 63,
     "metadata": {},
     "output_type": "execute_result"
    }
   ],
   "source": [
    "(alcohol.subtract(alcohol.mean())**2).sum()/(alcohol.count() -1)"
   ]
  },
  {
   "cell_type": "code",
   "execution_count": 64,
   "id": "d6dac11e",
   "metadata": {},
   "outputs": [
    {
     "data": {
      "text/plain": [
       "76.13491716376173"
      ]
     },
     "execution_count": 64,
     "metadata": {},
     "output_type": "execute_result"
    }
   ],
   "source": [
    "alcohol.std()"
   ]
  },
  {
   "cell_type": "code",
   "execution_count": 65,
   "id": "7eb1cd29",
   "metadata": {},
   "outputs": [],
   "source": [
    "## standard deviation is square root of variance hence taking root"
   ]
  },
  {
   "cell_type": "code",
   "execution_count": 67,
   "id": "0de13420",
   "metadata": {},
   "outputs": [
    {
     "data": {
      "text/plain": [
       "76.13491716376171"
      ]
     },
     "execution_count": 67,
     "metadata": {},
     "output_type": "execute_result"
    }
   ],
   "source": [
    "((alcohol.subtract(alcohol.mean())**2).sum()/(alcohol.count() -1))**(1/2)"
   ]
  },
  {
   "cell_type": "markdown",
   "id": "3def9522",
   "metadata": {},
   "source": [
    "### Cummulative operations cumprod() cumsum() cummax()..."
   ]
  },
  {
   "cell_type": "code",
   "execution_count": 68,
   "id": "d245f5f9",
   "metadata": {},
   "outputs": [
    {
     "data": {
      "text/plain": [
       "country\n",
       "Afghanistan       NaN\n",
       "Albania          54.0\n",
       "Algeria          68.0\n",
       "Andorra         380.0\n",
       "Angola          425.0\n",
       "                ...  \n",
       "Venezuela      8212.0\n",
       "Vietnam        8213.0\n",
       "Yemen             NaN\n",
       "Zambia         8217.0\n",
       "Zimbabwe       8221.0\n",
       "Name: wine_servings, Length: 193, dtype: float64"
      ]
     },
     "execution_count": 68,
     "metadata": {},
     "output_type": "execute_result"
    }
   ],
   "source": [
    "alcohol.cumsum()"
   ]
  },
  {
   "cell_type": "code",
   "execution_count": 69,
   "id": "fc44829c",
   "metadata": {},
   "outputs": [
    {
     "data": {
      "text/plain": [
       "8221.0"
      ]
     },
     "execution_count": 69,
     "metadata": {},
     "output_type": "execute_result"
    }
   ],
   "source": [
    "alcohol.sum()"
   ]
  },
  {
   "cell_type": "code",
   "execution_count": 70,
   "id": "d03bc86a",
   "metadata": {},
   "outputs": [
    {
     "data": {
      "text/plain": [
       "3.427611505218281e+183"
      ]
     },
     "execution_count": 70,
     "metadata": {},
     "output_type": "execute_result"
    }
   ],
   "source": [
    "alcohol.prod()"
   ]
  },
  {
   "cell_type": "code",
   "execution_count": 71,
   "id": "36b157db",
   "metadata": {},
   "outputs": [
    {
     "data": {
      "text/plain": [
       "339.0"
      ]
     },
     "execution_count": 71,
     "metadata": {},
     "output_type": "execute_result"
    }
   ],
   "source": [
    "alcohol.max()"
   ]
  },
  {
   "cell_type": "code",
   "execution_count": 72,
   "id": "3b6db777",
   "metadata": {},
   "outputs": [
    {
     "data": {
      "text/plain": [
       "country\n",
       "Afghanistan      NaN\n",
       "Albania         54.0\n",
       "Algeria         54.0\n",
       "Andorra        312.0\n",
       "Angola         312.0\n",
       "               ...  \n",
       "Venezuela      339.0\n",
       "Vietnam        339.0\n",
       "Yemen            NaN\n",
       "Zambia         339.0\n",
       "Zimbabwe       339.0\n",
       "Name: wine_servings, Length: 193, dtype: float64"
      ]
     },
     "execution_count": 72,
     "metadata": {},
     "output_type": "execute_result"
    }
   ],
   "source": [
    "alcohol.cummax()"
   ]
  },
  {
   "cell_type": "markdown",
   "id": "7b461d2e",
   "metadata": {},
   "source": [
    "### Series Iterations"
   ]
  },
  {
   "cell_type": "code",
   "execution_count": 73,
   "id": "fff92ebc",
   "metadata": {},
   "outputs": [],
   "source": [
    "mini_alcohol= alcohol[:10]"
   ]
  },
  {
   "cell_type": "code",
   "execution_count": 75,
   "id": "87afde1f",
   "metadata": {},
   "outputs": [
    {
     "name": "stdout",
     "output_type": "stream",
     "text": [
      "nan\n",
      "54.0\n",
      "14.0\n",
      "312.0\n",
      "45.0\n",
      "45.0\n",
      "221.0\n",
      "11.0\n",
      "212.0\n",
      "191.0\n"
     ]
    }
   ],
   "source": [
    "for i in mini_alcohol:\n",
    "    print(i)"
   ]
  },
  {
   "cell_type": "code",
   "execution_count": 76,
   "id": "2512c5ff",
   "metadata": {},
   "outputs": [
    {
     "name": "stdout",
     "output_type": "stream",
     "text": [
      "Afghanistan\n",
      "Albania\n",
      "Algeria\n",
      "Andorra\n",
      "Angola\n",
      "Antigua & Barbuda\n",
      "Argentina\n",
      "Armenia\n",
      "Australia\n",
      "Austria\n"
     ]
    }
   ],
   "source": [
    "for i in mini_alcohol.index:\n",
    "    print(i)"
   ]
  },
  {
   "cell_type": "code",
   "execution_count": 77,
   "id": "c2a19115",
   "metadata": {},
   "outputs": [
    {
     "name": "stdout",
     "output_type": "stream",
     "text": [
      "Afghanistan   nan\n",
      "Albania   54.0\n",
      "Algeria   14.0\n",
      "Andorra   312.0\n",
      "Angola   45.0\n",
      "Antigua & Barbuda   45.0\n",
      "Argentina   221.0\n",
      "Armenia   11.0\n",
      "Australia   212.0\n",
      "Austria   191.0\n"
     ]
    }
   ],
   "source": [
    "for i in mini_alcohol.index:\n",
    "    print(i,\" \",mini_alcohol[i])"
   ]
  },
  {
   "cell_type": "code",
   "execution_count": 80,
   "id": "df9e277e",
   "metadata": {},
   "outputs": [
    {
     "name": "stdout",
     "output_type": "stream",
     "text": [
      "('Afghanistan', nan)\n",
      "('Albania', 54.0)\n",
      "('Algeria', 14.0)\n",
      "('Andorra', 312.0)\n",
      "('Angola', 45.0)\n",
      "('Antigua & Barbuda', 45.0)\n",
      "('Argentina', 221.0)\n",
      "('Armenia', 11.0)\n",
      "('Australia', 212.0)\n",
      "('Austria', 191.0)\n"
     ]
    }
   ],
   "source": [
    "## convinient one\n",
    "for i in mini_alcohol.items():\n",
    "    print(i)"
   ]
  },
  {
   "cell_type": "markdown",
   "id": "bd7f2781",
   "metadata": {},
   "source": [
    " ## Filtering filter(), where(), mask()"
   ]
  },
  {
   "cell_type": "code",
   "execution_count": 81,
   "id": "fd22f26b",
   "metadata": {},
   "outputs": [],
   "source": [
    "#using regex regular expressions to filter out coountries name start with V"
   ]
  },
  {
   "cell_type": "code",
   "execution_count": 83,
   "id": "c4f9361f",
   "metadata": {},
   "outputs": [
    {
     "data": {
      "text/plain": [
       "country\n",
       "Vanuatu      11.0\n",
       "Venezuela     3.0\n",
       "Vietnam       1.0\n",
       "Name: wine_servings, dtype: float64"
      ]
     },
     "execution_count": 83,
     "metadata": {},
     "output_type": "execute_result"
    }
   ],
   "source": [
    "alcohol.filter(regex='^V')"
   ]
  },
  {
   "cell_type": "code",
   "execution_count": 85,
   "id": "a41f771f",
   "metadata": {},
   "outputs": [
    {
     "data": {
      "text/plain": [
       "country\n",
       "Afghanistan      NaN\n",
       "Kazakhstan      12.0\n",
       "Kyrgyzstan       6.0\n",
       "Pakistan         NaN\n",
       "Tajikistan       NaN\n",
       "Turkmenistan    32.0\n",
       "Uzbekistan       8.0\n",
       "Name: wine_servings, dtype: float64"
      ]
     },
     "execution_count": 85,
     "metadata": {},
     "output_type": "execute_result"
    }
   ],
   "source": [
    "#to fetch countries havin stan in it\n",
    "alcohol.filter(like='stan')"
   ]
  },
  {
   "cell_type": "code",
   "execution_count": 87,
   "id": "c818da33",
   "metadata": {},
   "outputs": [],
   "source": [
    "#this filter works on index what if you want it on value below is a example"
   ]
  },
  {
   "cell_type": "code",
   "execution_count": 89,
   "id": "fa47021f",
   "metadata": {},
   "outputs": [],
   "source": [
    "def getval(x):\n",
    "    return x > 200\n",
    "        "
   ]
  },
  {
   "cell_type": "code",
   "execution_count": 92,
   "id": "7396b841",
   "metadata": {},
   "outputs": [
    {
     "data": {
      "text/plain": [
       "country\n",
       "Andorra              312.0\n",
       "Argentina            221.0\n",
       "Australia            212.0\n",
       "Belgium              212.0\n",
       "Croatia              254.0\n",
       "Denmark              278.0\n",
       "Equatorial Guinea    233.0\n",
       "Greece               218.0\n",
       "Italy                237.0\n",
       "Luxembourg           271.0\n",
       "Portugal             339.0\n",
       "Slovenia             276.0\n",
       "Name: wine_servings, dtype: float64"
      ]
     },
     "execution_count": 92,
     "metadata": {},
     "output_type": "execute_result"
    }
   ],
   "source": [
    "alcohol[getval]\n",
    "#Here function output will be true or false based on conf=dition qand it works as a boolean mqask"
   ]
  },
  {
   "cell_type": "code",
   "execution_count": 93,
   "id": "c8e2f413",
   "metadata": {},
   "outputs": [],
   "source": [
    "#Using where"
   ]
  },
  {
   "cell_type": "code",
   "execution_count": 95,
   "id": "69e70c98",
   "metadata": {},
   "outputs": [
    {
     "data": {
      "text/plain": [
       "country\n",
       "Afghanistan    under 200 consumption\n",
       "Albania        under 200 consumption\n",
       "Algeria        under 200 consumption\n",
       "Andorra                        312.0\n",
       "Angola         under 200 consumption\n",
       "                       ...          \n",
       "Venezuela      under 200 consumption\n",
       "Vietnam        under 200 consumption\n",
       "Yemen          under 200 consumption\n",
       "Zambia         under 200 consumption\n",
       "Zimbabwe       under 200 consumption\n",
       "Name: wine_servings, Length: 193, dtype: object"
      ]
     },
     "execution_count": 95,
     "metadata": {},
     "output_type": "execute_result"
    }
   ],
   "source": [
    "alcohol.where(lambda x: x>200,other ='under 200 consumption')"
   ]
  },
  {
   "cell_type": "code",
   "execution_count": 96,
   "id": "86a8fbdb",
   "metadata": {},
   "outputs": [],
   "source": [
    "#if we dont give other parameter it will by default take NAN"
   ]
  },
  {
   "cell_type": "code",
   "execution_count": 97,
   "id": "ac60358f",
   "metadata": {},
   "outputs": [
    {
     "data": {
      "text/plain": [
       "country\n",
       "Afghanistan      NaN\n",
       "Albania          NaN\n",
       "Algeria          NaN\n",
       "Andorra        312.0\n",
       "Angola           NaN\n",
       "               ...  \n",
       "Venezuela        NaN\n",
       "Vietnam          NaN\n",
       "Yemen            NaN\n",
       "Zambia           NaN\n",
       "Zimbabwe         NaN\n",
       "Name: wine_servings, Length: 193, dtype: float64"
      ]
     },
     "execution_count": 97,
     "metadata": {},
     "output_type": "execute_result"
    }
   ],
   "source": [
    "alcohol.where(lambda x: x>200)"
   ]
  },
  {
   "cell_type": "code",
   "execution_count": 98,
   "id": "54106ced",
   "metadata": {},
   "outputs": [],
   "source": [
    "#we can use a dropNA ti get only data which satisfy conditions"
   ]
  },
  {
   "cell_type": "code",
   "execution_count": 99,
   "id": "7866beae",
   "metadata": {},
   "outputs": [
    {
     "data": {
      "text/plain": [
       "country\n",
       "Andorra              312.0\n",
       "Argentina            221.0\n",
       "Australia            212.0\n",
       "Belgium              212.0\n",
       "Croatia              254.0\n",
       "Denmark              278.0\n",
       "Equatorial Guinea    233.0\n",
       "Greece               218.0\n",
       "Italy                237.0\n",
       "Luxembourg           271.0\n",
       "Portugal             339.0\n",
       "Slovenia             276.0\n",
       "Name: wine_servings, dtype: float64"
      ]
     },
     "execution_count": 99,
     "metadata": {},
     "output_type": "execute_result"
    }
   ],
   "source": [
    "alcohol.where(lambda x: x>200).dropna()"
   ]
  },
  {
   "cell_type": "code",
   "execution_count": 100,
   "id": "90685d98",
   "metadata": {},
   "outputs": [],
   "source": [
    "#what if we want only values which fails the condition so we use mask()"
   ]
  },
  {
   "cell_type": "markdown",
   "id": "67804247",
   "metadata": {},
   "source": [
    "###### Mask() is like opposite to where just get the values which fails"
   ]
  },
  {
   "cell_type": "code",
   "execution_count": 101,
   "id": "3845c068",
   "metadata": {},
   "outputs": [
    {
     "data": {
      "text/plain": [
       "country\n",
       "Albania              54.0\n",
       "Algeria              14.0\n",
       "Angola               45.0\n",
       "Antigua & Barbuda    45.0\n",
       "Armenia              11.0\n",
       "                     ... \n",
       "Vanuatu              11.0\n",
       "Venezuela             3.0\n",
       "Vietnam               1.0\n",
       "Zambia                4.0\n",
       "Zimbabwe              4.0\n",
       "Name: wine_servings, Length: 150, dtype: float64"
      ]
     },
     "execution_count": 101,
     "metadata": {},
     "output_type": "execute_result"
    }
   ],
   "source": [
    "alcohol.mask(lambda x: x>200).dropna()"
   ]
  },
  {
   "cell_type": "markdown",
   "id": "38cefd08",
   "metadata": {},
   "source": [
    "### Tranforming with update() map() apply()"
   ]
  },
  {
   "cell_type": "code",
   "execution_count": 108,
   "id": "d240c784",
   "metadata": {},
   "outputs": [],
   "source": [
    "## Lets say you want to update a data in series what you will do :\n",
    "## you will give like alcohol['Albania']=200 or alcohol.loc['Albania']=200 like that\n",
    "\n",
    "### What if there is more things you need to update you w=cant everything seperatly right. Here comes the UPDATE() Function"
   ]
  },
  {
   "cell_type": "code",
   "execution_count": 103,
   "id": "5cf9660b",
   "metadata": {},
   "outputs": [
    {
     "data": {
      "text/plain": [
       "country\n",
       "Afghanistan      NaN\n",
       "Albania         54.0\n",
       "Algeria         14.0\n",
       "Andorra        312.0\n",
       "Angola          45.0\n",
       "Name: wine_servings, dtype: float64"
      ]
     },
     "execution_count": 103,
     "metadata": {},
     "output_type": "execute_result"
    }
   ],
   "source": [
    "alcohol.head()"
   ]
  },
  {
   "cell_type": "code",
   "execution_count": 111,
   "id": "d6cc9f7c",
   "metadata": {},
   "outputs": [],
   "source": [
    "alcohol['Albania']=55"
   ]
  },
  {
   "cell_type": "code",
   "execution_count": 112,
   "id": "676db899",
   "metadata": {},
   "outputs": [
    {
     "data": {
      "text/plain": [
       "country\n",
       "Afghanistan      NaN\n",
       "Albania         55.0\n",
       "Algeria         14.0\n",
       "Andorra        312.0\n",
       "Angola          45.0\n",
       "Name: wine_servings, dtype: float64"
      ]
     },
     "execution_count": 112,
     "metadata": {},
     "output_type": "execute_result"
    }
   ],
   "source": [
    "alcohol.head()"
   ]
  },
  {
   "cell_type": "code",
   "execution_count": 113,
   "id": "12f74fe5",
   "metadata": {},
   "outputs": [],
   "source": [
    "alcohol.update(pd.Series(data=[54,15,313],index=['Albania','Algeria','Andorra']))"
   ]
  },
  {
   "cell_type": "code",
   "execution_count": 114,
   "id": "6f5f0296",
   "metadata": {},
   "outputs": [
    {
     "data": {
      "text/plain": [
       "country\n",
       "Afghanistan      NaN\n",
       "Albania         54.0\n",
       "Algeria         15.0\n",
       "Andorra        313.0\n",
       "Angola          45.0\n",
       "Name: wine_servings, dtype: float64"
      ]
     },
     "execution_count": 114,
     "metadata": {},
     "output_type": "execute_result"
    }
   ],
   "source": [
    "alcohol.head()"
   ]
  },
  {
   "cell_type": "code",
   "execution_count": 2,
   "id": "26b95f0b",
   "metadata": {},
   "outputs": [],
   "source": [
    "## update always takes as inplace"
   ]
  },
  {
   "cell_type": "code",
   "execution_count": 4,
   "id": "da57cb95",
   "metadata": {},
   "outputs": [],
   "source": [
    "### APPLY () Method"
   ]
  },
  {
   "cell_type": "markdown",
   "id": "9e310ba5",
   "metadata": {},
   "source": [
    "###### Applly  method applies tranformation to each and every element in the series be it lambda or a function or a ufunc"
   ]
  },
  {
   "cell_type": "code",
   "execution_count": 5,
   "id": "f2bb0917",
   "metadata": {},
   "outputs": [],
   "source": [
    "alcohol_app=alcohol"
   ]
  },
  {
   "cell_type": "code",
   "execution_count": 9,
   "id": "21314fa5",
   "metadata": {},
   "outputs": [
    {
     "data": {
      "text/plain": [
       "country\n",
       "Afghanistan        NaN\n",
       "Albania         2916.0\n",
       "Algeria          196.0\n",
       "Andorra        97344.0\n",
       "Angola          2025.0\n",
       "                ...   \n",
       "Venezuela          9.0\n",
       "Vietnam            1.0\n",
       "Yemen              NaN\n",
       "Zambia            16.0\n",
       "Zimbabwe          16.0\n",
       "Name: wine_servings, Length: 193, dtype: float64"
      ]
     },
     "execution_count": 9,
     "metadata": {},
     "output_type": "execute_result"
    }
   ],
   "source": [
    "## example for ufunc\n",
    "import numpy as np\n",
    "alcohol_app.apply(np.square)"
   ]
  },
  {
   "cell_type": "code",
   "execution_count": 10,
   "id": "b56a21d3",
   "metadata": {},
   "outputs": [],
   "source": [
    "def muliply_by_self(x):\n",
    "    return x*x"
   ]
  },
  {
   "cell_type": "code",
   "execution_count": 23,
   "id": "83fdb1dd",
   "metadata": {},
   "outputs": [
    {
     "data": {
      "text/plain": [
       "country\n",
       "Afghanistan        NaN\n",
       "Albania         2916.0\n",
       "Algeria          196.0\n",
       "Andorra        97344.0\n",
       "Angola          2025.0\n",
       "                ...   \n",
       "Venezuela          9.0\n",
       "Vietnam            1.0\n",
       "Yemen              NaN\n",
       "Zambia            16.0\n",
       "Zimbabwe          16.0\n",
       "Name: wine_servings, Length: 193, dtype: float64"
      ]
     },
     "execution_count": 23,
     "metadata": {},
     "output_type": "execute_result"
    }
   ],
   "source": [
    "alcohol_app.apply(muliply_by_self)"
   ]
  },
  {
   "cell_type": "code",
   "execution_count": 15,
   "id": "591a305d",
   "metadata": {},
   "outputs": [],
   "source": [
    "### pandas/apply method automatically pass the series to function each element "
   ]
  },
  {
   "cell_type": "code",
   "execution_count": 18,
   "id": "c5c3f6f7",
   "metadata": {},
   "outputs": [],
   "source": [
    "def multi_if_mini(x,minimum_servings):\n",
    "    if x < minimum_servings:\n",
    "        return x**2\n",
    "    else: return x"
   ]
  },
  {
   "cell_type": "code",
   "execution_count": 24,
   "id": "c634407f",
   "metadata": {},
   "outputs": [
    {
     "data": {
      "text/plain": [
       "country\n",
       "Afghanistan      NaN\n",
       "Albania         54.0\n",
       "Algeria         14.0\n",
       "Andorra        312.0\n",
       "Angola          45.0\n",
       "Name: wine_servings, dtype: float64"
      ]
     },
     "execution_count": 24,
     "metadata": {},
     "output_type": "execute_result"
    }
   ],
   "source": [
    "alcohol_app.head()"
   ]
  },
  {
   "cell_type": "code",
   "execution_count": 27,
   "id": "49cc9ee1",
   "metadata": {},
   "outputs": [
    {
     "data": {
      "text/plain": [
       "country\n",
       "Afghanistan       NaN\n",
       "Albania        2916.0\n",
       "Algeria         196.0\n",
       "Andorra         312.0\n",
       "Angola         2025.0\n",
       "                ...  \n",
       "Venezuela         9.0\n",
       "Vietnam           1.0\n",
       "Yemen             NaN\n",
       "Zambia           16.0\n",
       "Zimbabwe         16.0\n",
       "Name: wine_servings, Length: 193, dtype: float64"
      ]
     },
     "execution_count": 27,
     "metadata": {},
     "output_type": "execute_result"
    }
   ],
   "source": [
    "alcohol_app.apply(multi_if_mini, args=(200,))"
   ]
  },
  {
   "cell_type": "code",
   "execution_count": 28,
   "id": "014a84de",
   "metadata": {},
   "outputs": [],
   "source": [
    "## The comma after args=(200,) is necessary due to the syntax of the apply method. The args parameter is expecting a tuple, and in Python, a tuple with a single element requires a trailing comma to distinguish it from an expression in parentheses."
   ]
  },
  {
   "cell_type": "code",
   "execution_count": 29,
   "id": "d355e06d",
   "metadata": {},
   "outputs": [
    {
     "data": {
      "text/plain": [
       "country\n",
       "Afghanistan      NaN\n",
       "Albania         54.0\n",
       "Algeria         14.0\n",
       "Andorra        312.0\n",
       "Angola          45.0\n",
       "Name: wine_servings, dtype: float64"
      ]
     },
     "execution_count": 29,
     "metadata": {},
     "output_type": "execute_result"
    }
   ],
   "source": [
    "alcohol_app.head()"
   ]
  },
  {
   "cell_type": "code",
   "execution_count": 30,
   "id": "222b6425",
   "metadata": {},
   "outputs": [],
   "source": [
    "#you can use a keyword aurguments as well"
   ]
  },
  {
   "cell_type": "code",
   "execution_count": 31,
   "id": "16514091",
   "metadata": {},
   "outputs": [
    {
     "data": {
      "text/plain": [
       "country\n",
       "Afghanistan       NaN\n",
       "Albania        2916.0\n",
       "Algeria         196.0\n",
       "Andorra         312.0\n",
       "Angola         2025.0\n",
       "                ...  \n",
       "Venezuela         9.0\n",
       "Vietnam           1.0\n",
       "Yemen             NaN\n",
       "Zambia           16.0\n",
       "Zimbabwe         16.0\n",
       "Name: wine_servings, Length: 193, dtype: float64"
      ]
     },
     "execution_count": 31,
     "metadata": {},
     "output_type": "execute_result"
    }
   ],
   "source": [
    "alcohol_app.apply(multi_if_mini,minimum_servings=150 )"
   ]
  },
  {
   "cell_type": "code",
   "execution_count": 32,
   "id": "ea1962ac",
   "metadata": {},
   "outputs": [],
   "source": [
    "## you can use MAP() also to pass function same like apply ut when it come to more specific/custom tranformation and function\n",
    "# which has multiple arguments map is not that efficient"
   ]
  },
  {
   "cell_type": "code",
   "execution_count": 34,
   "id": "c3bcac17",
   "metadata": {},
   "outputs": [
    {
     "data": {
      "text/plain": [
       "country\n",
       "Afghanistan          NaN\n",
       "Albania         7.348469\n",
       "Algeria         3.741657\n",
       "Andorra        17.663522\n",
       "Angola          6.708204\n",
       "                 ...    \n",
       "Venezuela       1.732051\n",
       "Vietnam         1.000000\n",
       "Yemen                NaN\n",
       "Zambia          2.000000\n",
       "Zimbabwe        2.000000\n",
       "Name: wine_servings, Length: 193, dtype: float64"
      ]
     },
     "execution_count": 34,
     "metadata": {},
     "output_type": "execute_result"
    }
   ],
   "source": [
    "alcohol_app.map(np.sqrt)"
   ]
  },
  {
   "cell_type": "code",
   "execution_count": 54,
   "id": "94a3089a",
   "metadata": {},
   "outputs": [],
   "source": [
    "### Skill challenge "
   ]
  },
  {
   "cell_type": "code",
   "execution_count": 55,
   "id": "9b72ca9f",
   "metadata": {},
   "outputs": [],
   "source": [
    "#reading csv to create new series beer\n",
    "beer = pd.read_csv('https://gist.githubusercontent.com/sh7ata/e075ff35b51ebb0d2d577fbe1d19ebc9/raw/b966d02c7c26bcca60703acb1390e938a65a35cb/drinks.csv',usecols=['country','beer_servings'],index_col='country')"
   ]
  },
  {
   "cell_type": "code",
   "execution_count": 59,
   "id": "7bac39c4",
   "metadata": {},
   "outputs": [],
   "source": [
    "beer=pd.Series(beer['beer_servings'])"
   ]
  },
  {
   "cell_type": "code",
   "execution_count": 60,
   "id": "947ae632",
   "metadata": {},
   "outputs": [
    {
     "data": {
      "text/plain": [
       "pandas.core.series.Series"
      ]
     },
     "execution_count": 60,
     "metadata": {},
     "output_type": "execute_result"
    }
   ],
   "source": [
    "type(beer)"
   ]
  },
  {
   "cell_type": "code",
   "execution_count": 62,
   "id": "3da544d5",
   "metadata": {},
   "outputs": [
    {
     "data": {
      "text/plain": [
       "country\n",
       "Afghanistan      NaN\n",
       "Albania         89.0\n",
       "Algeria         25.0\n",
       "Andorra        245.0\n",
       "Angola         217.0\n",
       "Name: beer_servings, dtype: float64"
      ]
     },
     "execution_count": 62,
     "metadata": {},
     "output_type": "execute_result"
    }
   ],
   "source": [
    "beer.head()"
   ]
  },
  {
   "cell_type": "code",
   "execution_count": 64,
   "id": "6073f12c",
   "metadata": {},
   "outputs": [
    {
     "data": {
      "text/plain": [
       "<matplotlib.axes._subplots.AxesSubplot at 0x2646faf1d90>"
      ]
     },
     "execution_count": 64,
     "metadata": {},
     "output_type": "execute_result"
    },
    {
     "data": {
      "image/png": "[encoded data removed]",
      "text/plain": [
       "<Figure size 432x288 with 1 Axes>"
      ]
     },
     "metadata": {
      "needs_background": "light"
     },
     "output_type": "display_data"
    }
   ],
   "source": [
    "beer.hist()   ## => right skewed"
   ]
  },
  {
   "cell_type": "code",
   "execution_count": 65,
   "id": "9501996b",
   "metadata": {},
   "outputs": [
    {
     "data": {
      "text/plain": [
       "count    178.000000\n",
       "mean     102.870787\n",
       "std      100.645713\n",
       "min        1.000000\n",
       "25%       21.000000\n",
       "50%       60.000000\n",
       "75%      172.500000\n",
       "max      376.000000\n",
       "Name: beer_servings, dtype: float64"
      ]
     },
     "execution_count": 65,
     "metadata": {},
     "output_type": "execute_result"
    }
   ],
   "source": [
    "beer.describe()"
   ]
  },
  {
   "cell_type": "markdown",
   "id": "10ac63a1",
   "metadata": {},
   "source": [
    "##### Skill  Challenge => Z scores "
   ]
  },
  {
   "cell_type": "code",
   "execution_count": 66,
   "id": "17a2f0cd",
   "metadata": {},
   "outputs": [],
   "source": [
    "# nEED TO CALCULATE EACH element is relatively smaller or larger than other\n",
    "#so we use to compare them with mean ig negative its relatively low if positive relatively high\n"
   ]
  },
  {
   "cell_type": "code",
   "execution_count": 67,
   "id": "11220efd",
   "metadata": {},
   "outputs": [
    {
     "data": {
      "text/plain": [
       "country\n",
       "Afghanistan            NaN\n",
       "Albania               89.0\n",
       "Algeria               25.0\n",
       "Andorra              245.0\n",
       "Angola               217.0\n",
       "Antigua & Barbuda     12.0\n",
       "Argentina            193.0\n",
       "Armenia               21.0\n",
       "Australia            261.0\n",
       "Austria              279.0\n",
       "Name: beer_servings, dtype: float64"
      ]
     },
     "execution_count": 67,
     "metadata": {},
     "output_type": "execute_result"
    }
   ],
   "source": [
    "beer[:10]"
   ]
  },
  {
   "cell_type": "code",
   "execution_count": 68,
   "id": "9dad3de2",
   "metadata": {},
   "outputs": [
    {
     "data": {
      "text/plain": [
       "country\n",
       "Afghanistan                 NaN\n",
       "Albania              -13.870787\n",
       "Algeria              -77.870787\n",
       "Andorra              142.129213\n",
       "Angola               114.129213\n",
       "Antigua & Barbuda    -90.870787\n",
       "Argentina             90.129213\n",
       "Armenia              -81.870787\n",
       "Australia            158.129213\n",
       "Austria              176.129213\n",
       "Name: beer_servings, dtype: float64"
      ]
     },
     "execution_count": 68,
     "metadata": {},
     "output_type": "execute_result"
    }
   ],
   "source": [
    "beer[:10] - beer.mean()"
   ]
  },
  {
   "cell_type": "code",
   "execution_count": 74,
   "id": "deab77d3",
   "metadata": {},
   "outputs": [
    {
     "data": {
      "text/plain": [
       "country\n",
       "Afghanistan    high\n",
       "Albania        high\n",
       "Algeria        high\n",
       "Andorra         low\n",
       "Angola          low\n",
       "               ... \n",
       "Venezuela       low\n",
       "Vietnam         low\n",
       "Yemen          high\n",
       "Zambia         high\n",
       "Zimbabwe       high\n",
       "Name: beer_servings, Length: 193, dtype: object"
      ]
     },
     "execution_count": 74,
     "metadata": {},
     "output_type": "execute_result"
    }
   ],
   "source": [
    "(beer - beer.mean()).apply(lambda x:'low' if x>0  else 'high')"
   ]
  },
  {
   "cell_type": "code",
   "execution_count": 75,
   "id": "86556ac3",
   "metadata": {},
   "outputs": [
    {
     "data": {
      "text/plain": [
       "high    127\n",
       "low      66\n",
       "Name: beer_servings, dtype: int64"
      ]
     },
     "execution_count": 75,
     "metadata": {},
     "output_type": "execute_result"
    }
   ],
   "source": [
    "(beer - beer.mean()).apply(lambda x:'low' if x>0  else 'high').value_counts()"
   ]
  },
  {
   "cell_type": "code",
   "execution_count": 76,
   "id": "5548876c",
   "metadata": {},
   "outputs": [],
   "source": [
    "#But this is not statistically correct way So we use  Z-SCORES"
   ]
  },
  {
   "cell_type": "markdown",
   "id": "79b2575e",
   "metadata": {},
   "source": [
    "#### Z=(X−μ) /σ \n",
    "\n",
    "###### Here:\n",
    "\n",
    "###### Z is the z-score.\n",
    "\n",
    "###### X is the individual data point.\n",
    "###### μ is the mean of the dataset.\n",
    "###### σ is the standard deviation of the dataset.\n",
    "\n",
    "###### The z-score helps you understand how far a particular data point is from the mean in terms of standard deviations. A positive z-score indicates that the data point is above the mean, while a negative z-score indicates that the data point is below the mean.\n",
    "\n",
    "###### It's important to note that the z-score is meaningful when the data follows a normal distribution or is approximately normally distributed. If the data does not follow a normal distribution, other measures might be more appropriate."
   ]
  },
  {
   "cell_type": "code",
   "execution_count": 77,
   "id": "ca2eb12f",
   "metadata": {},
   "outputs": [],
   "source": [
    "z_score_for_beer=(beer-beer.mean())/beer.std()"
   ]
  },
  {
   "cell_type": "code",
   "execution_count": 78,
   "id": "684bbadf",
   "metadata": {},
   "outputs": [
    {
     "data": {
      "text/plain": [
       "country\n",
       "Afghanistan         NaN\n",
       "Albania       -0.137818\n",
       "Algeria       -0.773712\n",
       "Andorra        1.412174\n",
       "Angola         1.133970\n",
       "                 ...   \n",
       "Venezuela      2.286528\n",
       "Vietnam        0.080771\n",
       "Yemen         -0.962493\n",
       "Zambia        -0.704161\n",
       "Zimbabwe      -0.386214\n",
       "Name: beer_servings, Length: 193, dtype: float64"
      ]
     },
     "execution_count": 78,
     "metadata": {},
     "output_type": "execute_result"
    }
   ],
   "source": [
    "z_score_for_beer"
   ]
  },
  {
   "cell_type": "code",
   "execution_count": 79,
   "id": "8c2cb371",
   "metadata": {},
   "outputs": [
    {
     "data": {
      "text/plain": [
       "-1.012172141315241"
      ]
     },
     "execution_count": 79,
     "metadata": {},
     "output_type": "execute_result"
    }
   ],
   "source": [
    "z_score_for_beer.min()"
   ]
  },
  {
   "cell_type": "code",
   "execution_count": 81,
   "id": "17d5a919",
   "metadata": {},
   "outputs": [
    {
     "data": {
      "text/plain": [
       "2.7137689844109123"
      ]
     },
     "execution_count": 81,
     "metadata": {},
     "output_type": "execute_result"
    }
   ],
   "source": [
    "z_score_for_beer.max()"
   ]
  },
  {
   "cell_type": "code",
   "execution_count": 82,
   "id": "4e5b4e76",
   "metadata": {},
   "outputs": [],
   "source": [
    "## absolute max"
   ]
  },
  {
   "cell_type": "code",
   "execution_count": 83,
   "id": "ef757716",
   "metadata": {},
   "outputs": [
    {
     "data": {
      "text/plain": [
       "country\n",
       "Afghanistan         NaN\n",
       "Albania        0.137818\n",
       "Algeria        0.773712\n",
       "Andorra        1.412174\n",
       "Angola         1.133970\n",
       "                 ...   \n",
       "Venezuela      2.286528\n",
       "Vietnam        0.080771\n",
       "Yemen          0.962493\n",
       "Zambia         0.704161\n",
       "Zimbabwe       0.386214\n",
       "Name: beer_servings, Length: 193, dtype: float64"
      ]
     },
     "execution_count": 83,
     "metadata": {},
     "output_type": "execute_result"
    }
   ],
   "source": [
    "z_score_for_beer.abs()"
   ]
  },
  {
   "cell_type": "code",
   "execution_count": 85,
   "id": "5f1e9336",
   "metadata": {},
   "outputs": [
    {
     "data": {
      "text/plain": [
       "2.7137689844109123"
      ]
     },
     "execution_count": 85,
     "metadata": {},
     "output_type": "execute_result"
    }
   ],
   "source": [
    "z_score_for_beer.abs().max()"
   ]
  },
  {
   "cell_type": "code",
   "execution_count": 86,
   "id": "b990f92b",
   "metadata": {},
   "outputs": [
    {
     "data": {
      "text/plain": [
       "'Namibia'"
      ]
     },
     "execution_count": 86,
     "metadata": {},
     "output_type": "execute_result"
    }
   ],
   "source": [
    "z_score_for_beer.idxmax()"
   ]
  },
  {
   "cell_type": "code",
   "execution_count": null,
   "id": "2125fc00",
   "metadata": {},
   "outputs": [],
   "source": [
    "# So namibia has abs max"
   ]
  }
 ],
 "metadata": {
  "kernelspec": {
   "display_name": "Python 3 (ipykernel)",
   "language": "python",
   "name": "python3"
  },
  "language_info": {
   "codemirror_mode": {
    "name": "ipython",
    "version": 3
   },
   "file_extension": ".py",
   "mimetype": "text/x-python",
   "name": "python",
   "nbconvert_exporter": "python",
   "pygments_lexer": "ipython3",
   "version": "3.9.12"
  }
 },
 "nbformat": 4,
 "nbformat_minor": 5
}
